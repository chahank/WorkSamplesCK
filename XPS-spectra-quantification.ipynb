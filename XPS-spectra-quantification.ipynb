{
 "cells": [
  {
   "cell_type": "markdown",
   "metadata": {},
   "source": [
    "# XPS spectra identification and quantification"
   ]
  },
  {
   "cell_type": "markdown",
   "metadata": {},
   "source": [
    "This project was published as a scientific resarch article with the title \"Deep neural network for X-ray photoelectron spectroscopy data analysis\" in the journal 'Machine Learning: Science and Technology'. A free version is available on the arXiv: https://arxiv.org/abs/1909.05529"
   ]
  },
  {
   "cell_type": "markdown",
   "metadata": {},
   "source": [
    "The goal is to identify the elements present in a given epxerimentally meausred electron-emission (XPS) spectrum. With Dr. G. Drera we produced an artificial training sample made of fake spectra containing each 2-4 elements using advanced Monte Carlo simulations. A test set of real XPS spectra is also available. Challenges include contamination by oxygen and carbon, overall shift of the spectrum, and relative sensitivity of the peaks to the contamination levels."
   ]
  },
  {
   "cell_type": "markdown",
   "metadata": {},
   "source": [
    "## Python packages and basic function"
   ]
  },
  {
   "cell_type": "code",
   "execution_count": 49,
   "metadata": {
    "ExecuteTime": {
     "end_time": "2020-01-26T11:41:01.888338Z",
     "start_time": "2020-01-26T11:41:01.878999Z"
    }
   },
   "outputs": [],
   "source": [
    "import pandas as pd\n",
    "import numpy as np\n",
    "import matplotlib.pyplot as plt\n",
    "\n",
    "from sklearn.model_selection import train_test_split #For splitting a set into training and test\n",
    "\n",
    "# Keras items\n",
    "import keras"
   ]
  },
  {
   "cell_type": "code",
   "execution_count": 2,
   "metadata": {
    "ExecuteTime": {
     "end_time": "2020-01-26T11:11:27.800473Z",
     "start_time": "2020-01-26T11:11:27.783330Z"
    }
   },
   "outputs": [],
   "source": [
    "# Save a trained model to a json and h5 file\n",
    "\n",
    "def save_model(model, filename, path):\n",
    "    \n",
    "    # serialize model to JSON\n",
    "    model_json = model.to_json()\n",
    "    with open(path + filename + '.json', \"w\") as json_file:\n",
    "        json_file.write(model_json)\n",
    "    # serialize weights to HDF5\n",
    "    model.save_weights(path + filename + \".h5\")\n",
    "    \n",
    "    print(\"Saved model to disk\")\n",
    "\n",
    "# Load a trained model saved with the save_model function    \n",
    "    \n",
    "def load_model(filename, path):\n",
    " \n",
    "    # load json and create model\n",
    "    json_file = open(path + filename + '.json', 'r')\n",
    "    loaded_model_json = json_file.read()\n",
    "    json_file.close()\n",
    "    loaded_model = keras.models.model_from_json(loaded_model_json)\n",
    "    # load weights into new model\n",
    "    loaded_model.load_weights(path + filename + \".h5\")\n",
    "    \n",
    "    return loaded_model"
   ]
  },
  {
   "cell_type": "code",
   "execution_count": 3,
   "metadata": {
    "ExecuteTime": {
     "end_time": "2020-01-26T11:11:28.751796Z",
     "start_time": "2020-01-26T11:11:28.715313Z"
    }
   },
   "outputs": [],
   "source": [
    "#Define the xps relative intensity for elements from z = 3 (lithium) to z = 83 (bismuth)\n",
    "z_threshold = np.array([ 0.02690042,  0.07704826,  0.21056701,  0.37956232,  0.50214875,\n",
    "    0.8389039 ,  1.2781961 ,  2.030549  ,  2.895051  ,  0.3938323 ,\n",
    "    0.13641681,  0.13520968,  0.12879588,  0.20122653,  0.1839651 ,\n",
    "    0.20770398,  0.28487498,  0.34013155,  0.6639688 ,  1.2232105 ,\n",
    "    2.1499441 ,  3.4514627 ,  4.4178324 ,  5.5601149 ,  8.5126276 ,\n",
    "    9.3818016 , 10.356577  ,  8.9705925 ,  0.7223503 ,  0.60683209,\n",
    "    0.59862125,  0.46525857,  0.21884297,  0.21583223,  0.1527631 ,\n",
    "    0.22720009,  0.44130668,  0.74013931,  1.1312765 ,  1.6618358 ,\n",
    "    2.1005776 ,  2.4968209 ,  2.8142807 ,  2.9819212 ,  2.6759336 ,\n",
    "    2.4045827 ,  2.1671715 ,  2.3641839 ,  2.4493639 ,  2.5727384 ,\n",
    "    2.4075847 ,  1.5270671 ,  1.0054697 ,  2.0702636 ,  4.6083822 ,\n",
    "    5.596025  ,  6.0214639 ,  6.7605233 ,  7.5784369 ,  2.5354369 ,\n",
    "    0.51197964,  0.7296142 ,  0.72040737,  0.70293695,  0.91387457,\n",
    "    0.83505982,  0.66152835,  0.41190755,  0.71862513,  0.66354334,\n",
    "    1.0555228 ,  1.3060269 ,  1.6404228 ,  1.9798533 ,  2.2094698 ,\n",
    "    2.2872632 ,  2.2970097 ,  1.6634289 ,  1.5163039 ,  1.6659216 ,\n",
    "    1.5038371 ])\n",
    "\n",
    "# Define the number of energy bins of the spectra and the input shape of the neuronal network\n",
    "NEnergies = 2000\n",
    "input_spectra = keras.layers.Input(shape = (NEnergies,))"
   ]
  },
  {
   "cell_type": "markdown",
   "metadata": {},
   "source": [
    "## Data"
   ]
  },
  {
   "cell_type": "code",
   "execution_count": 4,
   "metadata": {
    "ExecuteTime": {
     "end_time": "2020-01-26T11:11:31.860495Z",
     "start_time": "2020-01-26T11:11:31.851711Z"
    }
   },
   "outputs": [],
   "source": [
    "'''\n",
    "Function that loads the synthetic and experimental data to create the training, test and validation dataset.\n",
    "(x: network input ; y: label)\n",
    "\n",
    "    normalized_sum: if True the intensity labels are normalized to sum up to 1.\n",
    "\n",
    "    returns: x_train, y_train, x_test, y_test, x_val, y_val, contamination_label\n",
    "\n",
    "\n",
    "training dataset: 70% randomly sampled synthetic spectra with *intensity* labels\n",
    "\n",
    "test dataset: remaining 30% randomly sampled synthetic spectra with *intensity* labels\n",
    "\n",
    "validation dataset: all the experimental spectra with *intensity* labels\n",
    "\n",
    "syn_contamination: level of carbon contamination for the synthetic data [0,1]\n",
    "'''\n",
    "\n",
    "def data(normalized_sum = True, test_split_size = 0.3):\n",
    "        \n",
    "    #Load the synthetic spectra with fixed noise from binary file\n",
    "    syn_spectra_bin = np.fromfile(\"./XPS_Data_Sample/Synthetic/Spectra_syn.bin\", dtype=np.float32).reshape((-1,2000))\n",
    "    syn_spectra = pd.DataFrame(syn_spectra_bin)\n",
    "    \n",
    "    #Load the synthetic *intensity* labels from binary file\n",
    "    syn_intensity_bin = np.fromfile(\"./XPS_Data_Sample/Synthetic/Intensity_syn.bin\", dtype=np.float32).reshape((-1,81))\n",
    "    syn_intensity = pd.DataFrame(syn_intensity_bin)\n",
    "    if normalized_sum: syn_intensity = syn_intensity.div(syn_intensity.sum(axis=1), axis=0) #Normalize sum to one if normalized_sum = True\n",
    "    \n",
    "    #Load the contamination labels\n",
    "    syn_contamination= np.fromfile(\"./XPS_Data_Sample/Synthetic/Contamination_syn.bin\", dtype=np.float32)\n",
    "    # Normalize to [0,1]\n",
    "    syn_contamination = syn_contamination / syn_contamination.max()\n",
    "    \n",
    "    #Split the synthetic data into a training set and a test set with a default ratio 70/30\n",
    "    x_train, x_test, y_train, y_test, y_train_conta, y_test_conta = train_test_split(syn_spectra.values, syn_intensity.values, syn_contamination, test_size = test_split_size)\n",
    "    \n",
    "    \n",
    "    \n",
    "    #Load the experimental spectra from csv\n",
    "    exp_spectra = pd.read_csv(\"./XPS_Data_Sample/Experiment/Spectra_exp.dat\", delimiter = '\\t', header = None)\n",
    "    #Load the experimental *true elemental quantification* labels from csv\n",
    "    exp_elements = pd.read_csv(\"./XPS_Data_Sample/Experiment/Elements_exp.dat\", delimiter = '\\t', header = None)\n",
    "    \n",
    "    #Compute the normalized *intensity* for the experimental data\n",
    "    intensity_labels = exp_elements * z_threshold \n",
    "    if normalized_sum: intensity_labels = intensity_labels.div(intensity_labels.sum(axis=1), axis=0)     #Normalize sum to one\n",
    "\n",
    "    x_val = exp_spectra.values\n",
    "    y_val = intensity_labels.values\n",
    "\n",
    "    \n",
    "    return x_train, y_train, x_test, y_test, x_val, y_val, y_train_conta"
   ]
  },
  {
   "cell_type": "markdown",
   "metadata": {},
   "source": [
    "### Example of a spectra"
   ]
  },
  {
   "cell_type": "code",
   "execution_count": 17,
   "metadata": {
    "ExecuteTime": {
     "end_time": "2020-01-26T11:30:16.674173Z",
     "start_time": "2020-01-26T11:30:13.874741Z"
    }
   },
   "outputs": [],
   "source": [
    "#Load the data\n",
    "x_train, y_train, x_test, y_test, x_val, y_val, y_train_conta = data(normalized_sum = True, test_split_size = 0.999)"
   ]
  },
  {
   "cell_type": "code",
   "execution_count": 45,
   "metadata": {
    "ExecuteTime": {
     "end_time": "2020-01-26T11:40:15.463258Z",
     "start_time": "2020-01-26T11:40:15.259070Z"
    }
   },
   "outputs": [
    {
     "data": {
      "text/plain": [
       "<matplotlib.axes._subplots.AxesSubplot at 0x7f910905a710>"
      ]
     },
     "execution_count": 45,
     "metadata": {},
     "output_type": "execute_result"
    },
    {
     "data": {
      "image/png": "[encoded data removed]",
      "text/plain": [
       "<Figure size 432x288 with 1 Axes>"
      ]
     },
     "metadata": {
      "needs_background": "light"
     },
     "output_type": "display_data"
    }
   ],
   "source": [
    "spectra = pd.DataFrame(x_train)\n",
    "spectra.T[10].plot(title = 'XPS spectra')"
   ]
  },
  {
   "cell_type": "markdown",
   "metadata": {},
   "source": [
    "## Network: inception and contamination subnets"
   ]
  },
  {
   "cell_type": "markdown",
   "metadata": {},
   "source": [
    "### Custom layers and loss functions"
   ]
  },
  {
   "cell_type": "code",
   "execution_count": 5,
   "metadata": {
    "ExecuteTime": {
     "end_time": "2020-01-26T11:11:34.651533Z",
     "start_time": "2020-01-26T11:11:34.646739Z"
    }
   },
   "outputs": [],
   "source": [
    "# Normalization layer to have the network output sum to 1\n",
    "# Using the Keras.backend\n",
    "\n",
    "def norm_layer(y_pred):\n",
    "\n",
    "    y_pred_sum = keras.backend.sum(y_pred, axis = 1, keepdims = True)\n",
    "    y_pred_sum_tensor = keras.backend.repeat_elements(y_pred_sum, rep = 81, axis=1)\n",
    "    y_pred_scaled = y_pred / y_pred_sum_tensor\n",
    "\n",
    "    return y_pred_scaled"
   ]
  },
  {
   "cell_type": "markdown",
   "metadata": {},
   "source": [
    "The custom loss function we use penalizes errors more when the true value is large. The loss for each single input spectra is given by\n",
    "\n",
    "\\begin{equation}\n",
    "L_i(\\overline{y}_i, y_i) = \\sum_{k=1}^{81} \\overline{y}_i^2 (y_i-\\overline{y}_i)^2 \n",
    "\\end{equation}\n",
    "\n",
    "and the overall loss is the average loss\n",
    "\n",
    "\\begin{equation}\n",
    "L = \\frac{1}{N}\\sum_{i=1}^N L_i(\\overline{y}_i, y_i) \n",
    "\\end{equation}"
   ]
  },
  {
   "cell_type": "code",
   "execution_count": 6,
   "metadata": {
    "ExecuteTime": {
     "end_time": "2020-01-26T11:11:36.252441Z",
     "start_time": "2020-01-26T11:11:36.237923Z"
    }
   },
   "outputs": [],
   "source": [
    "# Low_pass loss function\n",
    "def loss_low_pass_filter(y_true, y_pred):\n",
    "    \n",
    "    diff = keras.backend.square(y_true) * (keras.backend.square(y_pred - y_true))\n",
    "    \n",
    "    return keras.backend.mean(keras.backend.sum(diff, axis = 1))"
   ]
  },
  {
   "cell_type": "markdown",
   "metadata": {},
   "source": [
    "### Inception - contamination network"
   ]
  },
  {
   "cell_type": "code",
   "execution_count": 7,
   "metadata": {
    "ExecuteTime": {
     "end_time": "2020-01-26T11:11:38.506328Z",
     "start_time": "2020-01-26T11:11:38.475218Z"
    }
   },
   "outputs": [],
   "source": [
    "def inception_contamination_net(input_shape, toprint = False):\n",
    "    \n",
    "    \n",
    "    '''\n",
    "    Denoising inception module\n",
    "    \n",
    "    Input: XPS spectra with 2000 bins\n",
    "    \n",
    "    Output: Denoised spectra with 2000 bins\n",
    "    \n",
    "    '''\n",
    "    \n",
    "    # Kernel sizes and filter size\n",
    "    kernel_small = 1\n",
    "    kernel_medium = 3\n",
    "    kernel_large = 5\n",
    "    Nfilters = 1\n",
    "\n",
    "    # Add a dimension the input to obtain a tensor 2000 x 1 for the convolution\n",
    "    reshape = keras.layers.Reshape((2000, 1))(input_shape)\n",
    "    \n",
    "    # 3 parallel 1D convolutions applied to the input (reshape)\n",
    "    tower_1 = keras.layers.Conv1D(filters = Nfilters , kernel_size = kernel_small, padding='same', activation='relu')(reshape)\n",
    "    tower_2 = keras.layers.Conv1D(filters = Nfilters , kernel_size = kernel_medium, padding='same', activation='relu')(reshape)\n",
    "    tower_3 = keras.layers.Conv1D(filters = Nfilters , kernel_size = kernel_large, padding='same', activation='relu')(reshape)\n",
    "\n",
    "    # Merge the ouput of the convolutions along the second axis to obtain a 2000 x 3 tensor\n",
    "    merged = keras.layers.concatenate([tower_1, tower_2, tower_3], axis=2)\n",
    "    \n",
    "    # 1D convolution(5 filtes kernel_size 4), average pooling (pool_size = 4, stride lenght = 4)\n",
    "    conv_mixing = keras.layers.Conv1D(filters = 4, kernel_size = 5, activation='relu',padding='same')(merged)\n",
    "    pooling = keras.layers.AveragePooling1D(pool_size = 4, strides = 4, padding= 'same')(conv_mixing)\n",
    "    \n",
    "    # Flatten the kernel to obtain a flat 2000 tensor\n",
    "    inception_out = keras.layers.Flatten()(pooling)\n",
    "\n",
    "    \n",
    "    \n",
    "    \n",
    "    '''\n",
    "    Contamination identification module\n",
    "    \n",
    "    Input: denoised spectra output of the inception module.\n",
    "    \n",
    "    Output: the contamination label\n",
    "    \n",
    "    '''\n",
    "    \n",
    "    drop_c = keras.layers.Dropout(rate = 0.20)(inception_out)\n",
    "    linear_c = keras.layers.Dense(100, activation='sigmoid')(drop_c)\n",
    "    conta_out = keras.layers.Dense(1, activation='sigmoid')(linear_c)\n",
    "    \n",
    "    \n",
    "    \n",
    "    \n",
    "    '''\n",
    "    Intensity identification module\n",
    "    \n",
    "    Input: denoised spectra output of the inception module and contamination label \n",
    "    from contamination identification module\n",
    "    \n",
    "    Output: 81 intensity labels normalized to sum 1\n",
    "    \n",
    "\n",
    "    '''\n",
    "    \n",
    "    # Attach the output of the contamination layer to the ouput of the inception layer\n",
    "    merged_incep_conta = keras.layers.concatenate([conta_out, inception_out], axis=1)\n",
    "    \n",
    "    # Dropout and intensity identification (81 values)\n",
    "    drop_1 = keras.layers.Dropout(0.2)(merged_incep_conta)\n",
    "    linear_1 = keras.layers.Dense(2000, activation = 'relu')(drop_1)\n",
    "    linear_2 = keras.layers.Dense(81, activation='sigmoid')(linear_1)\n",
    "    \n",
    "    # Normalize the sum of the intensities to 1 with the custom norm_layer\n",
    "    norm_intensity_out = keras.layers.core.Lambda(norm_layer, output_shape = (81,) )(linear_2)\n",
    "\n",
    "    '''\n",
    "    Define the keras model with the inception denoising module, the contamination module and\n",
    "    the intensity quantification module\n",
    "    '''\n",
    "    \n",
    "    model = keras.models.Model(input_shape, [conta_out, norm_intensity_out])\n",
    "    \n",
    "    # Print the summary of the model if toprint = True\n",
    "    if toprint: print(model.summary())\n",
    "    \n",
    "    return model"
   ]
  },
  {
   "cell_type": "code",
   "execution_count": 8,
   "metadata": {
    "ExecuteTime": {
     "end_time": "2020-01-26T11:11:40.355726Z",
     "start_time": "2020-01-26T11:11:40.157837Z"
    }
   },
   "outputs": [
    {
     "name": "stdout",
     "output_type": "stream",
     "text": [
      "__________________________________________________________________________________________________\n",
      "Layer (type)                    Output Shape         Param #     Connected to                     \n",
      "==================================================================================================\n",
      "input_1 (InputLayer)            (None, 2000)         0                                            \n",
      "__________________________________________________________________________________________________\n",
      "reshape_1 (Reshape)             (None, 2000, 1)      0           input_1[0][0]                    \n",
      "__________________________________________________________________________________________________\n",
      "conv1d_1 (Conv1D)               (None, 2000, 1)      2           reshape_1[0][0]                  \n",
      "__________________________________________________________________________________________________\n",
      "conv1d_2 (Conv1D)               (None, 2000, 1)      4           reshape_1[0][0]                  \n",
      "__________________________________________________________________________________________________\n",
      "conv1d_3 (Conv1D)               (None, 2000, 1)      6           reshape_1[0][0]                  \n",
      "__________________________________________________________________________________________________\n",
      "concatenate_1 (Concatenate)     (None, 2000, 3)      0           conv1d_1[0][0]                   \n",
      "                                                                 conv1d_2[0][0]                   \n",
      "                                                                 conv1d_3[0][0]                   \n",
      "__________________________________________________________________________________________________\n",
      "conv1d_4 (Conv1D)               (None, 2000, 4)      64          concatenate_1[0][0]              \n",
      "__________________________________________________________________________________________________\n",
      "average_pooling1d_1 (AveragePoo (None, 500, 4)       0           conv1d_4[0][0]                   \n",
      "__________________________________________________________________________________________________\n",
      "flatten_1 (Flatten)             (None, 2000)         0           average_pooling1d_1[0][0]        \n",
      "__________________________________________________________________________________________________\n",
      "dropout_1 (Dropout)             (None, 2000)         0           flatten_1[0][0]                  \n",
      "__________________________________________________________________________________________________\n",
      "dense_1 (Dense)                 (None, 100)          200100      dropout_1[0][0]                  \n",
      "__________________________________________________________________________________________________\n",
      "dense_2 (Dense)                 (None, 1)            101         dense_1[0][0]                    \n",
      "__________________________________________________________________________________________________\n",
      "concatenate_2 (Concatenate)     (None, 2001)         0           dense_2[0][0]                    \n",
      "                                                                 flatten_1[0][0]                  \n",
      "__________________________________________________________________________________________________\n",
      "dropout_2 (Dropout)             (None, 2001)         0           concatenate_2[0][0]              \n",
      "__________________________________________________________________________________________________\n",
      "dense_3 (Dense)                 (None, 2000)         4004000     dropout_2[0][0]                  \n",
      "__________________________________________________________________________________________________\n",
      "dense_4 (Dense)                 (None, 81)           162081      dense_3[0][0]                    \n",
      "__________________________________________________________________________________________________\n",
      "lambda_1 (Lambda)               (None, 81)           0           dense_4[0][0]                    \n",
      "==================================================================================================\n",
      "Total params: 4,366,358\n",
      "Trainable params: 4,366,358\n",
      "Non-trainable params: 0\n",
      "__________________________________________________________________________________________________\n",
      "None\n"
     ]
    }
   ],
   "source": [
    "# Prints out the summary of the model\n",
    "my_model = inception_contamination_net(input_spectra, toprint = True)"
   ]
  },
  {
   "cell_type": "markdown",
   "metadata": {},
   "source": [
    "## Example how to train"
   ]
  },
  {
   "cell_type": "markdown",
   "metadata": {},
   "source": [
    "Note: For demonstration purposes we will set the size of the training set to be very small such that the training can easily be done on Laptop. The so obtained trained network has then extremely poor classification performance obviously. If you want to use it, please change test_split_size to a reasonable ratio (e.g. 0.3)."
   ]
  },
  {
   "cell_type": "code",
   "execution_count": 41,
   "metadata": {
    "ExecuteTime": {
     "end_time": "2020-01-26T11:37:43.851927Z",
     "start_time": "2020-01-26T11:37:41.846308Z"
    }
   },
   "outputs": [],
   "source": [
    "#Load the data\n",
    "x_train, y_train, x_test, y_test, x_val, y_val, y_train_conta = data(normalized_sum = True, test_split_size = 0.999)\n",
    "\n",
    "# The real value of the contamination for the experimental data is not known. Thus, we use an array of 0 \n",
    "# for the validation value of the contamination\n",
    "foo_y_val_conta = np.array([np.zeros(534)]).transpose()"
   ]
  },
  {
   "cell_type": "code",
   "execution_count": 42,
   "metadata": {
    "ExecuteTime": {
     "end_time": "2020-01-26T11:37:43.935979Z",
     "start_time": "2020-01-26T11:37:43.854788Z"
    }
   },
   "outputs": [],
   "source": [
    "params = {\n",
    "    'batch_size': 32,\n",
    "    'epochs': 100,\n",
    "    'optimizer': 'adam',\n",
    "    'loss': [\"mse\", loss_low_pass_filter]\n",
    "}\n",
    "\n",
    "my_model.compile(optimizer = params['optimizer'], loss = params['loss'], metrics=['accuracy'])"
   ]
  },
  {
   "cell_type": "code",
   "execution_count": 43,
   "metadata": {
    "ExecuteTime": {
     "end_time": "2020-01-26T11:39:04.725732Z",
     "start_time": "2020-01-26T11:37:43.937451Z"
    },
    "collapsed": true
   },
   "outputs": [
    {
     "name": "stdout",
     "output_type": "stream",
     "text": [
      "Train on 117 samples, validate on 534 samples\n",
      "Epoch 1/100\n",
      "117/117 [==============================] - 3s 29ms/step - loss: 0.1237 - dense_2_loss: 0.0220 - lambda_1_loss: 0.1017 - dense_2_acc: 0.0000e+00 - lambda_1_acc: 0.5641 - val_loss: 0.4328 - val_dense_2_loss: 0.2230 - val_lambda_1_loss: 0.2098 - val_dense_2_acc: 0.6498 - val_lambda_1_acc: 0.2397\n",
      "Epoch 2/100\n",
      "117/117 [==============================] - 1s 9ms/step - loss: 0.1082 - dense_2_loss: 0.0210 - lambda_1_loss: 0.0872 - dense_2_acc: 0.0000e+00 - lambda_1_acc: 0.5556 - val_loss: 0.3800 - val_dense_2_loss: 0.1676 - val_lambda_1_loss: 0.2124 - val_dense_2_acc: 0.7491 - val_lambda_1_acc: 0.2247\n",
      "Epoch 3/100\n",
      "117/117 [==============================] - 1s 8ms/step - loss: 0.1014 - dense_2_loss: 0.0204 - lambda_1_loss: 0.0810 - dense_2_acc: 0.0000e+00 - lambda_1_acc: 0.6154 - val_loss: 0.4032 - val_dense_2_loss: 0.1920 - val_lambda_1_loss: 0.2111 - val_dense_2_acc: 0.6891 - val_lambda_1_acc: 0.2566\n",
      "Epoch 4/100\n",
      "117/117 [==============================] - 1s 5ms/step - loss: 0.0907 - dense_2_loss: 0.0164 - lambda_1_loss: 0.0743 - dense_2_acc: 0.0000e+00 - lambda_1_acc: 0.6496 - val_loss: 0.3978 - val_dense_2_loss: 0.1865 - val_lambda_1_loss: 0.2113 - val_dense_2_acc: 0.7097 - val_lambda_1_acc: 0.2509\n",
      "Epoch 5/100\n",
      "117/117 [==============================] - 1s 6ms/step - loss: 0.0840 - dense_2_loss: 0.0179 - lambda_1_loss: 0.0661 - dense_2_acc: 0.0000e+00 - lambda_1_acc: 0.6496 - val_loss: 0.3995 - val_dense_2_loss: 0.1856 - val_lambda_1_loss: 0.2139 - val_dense_2_acc: 0.7097 - val_lambda_1_acc: 0.2472\n",
      "Epoch 6/100\n",
      "117/117 [==============================] - 1s 7ms/step - loss: 0.0805 - dense_2_loss: 0.0175 - lambda_1_loss: 0.0630 - dense_2_acc: 0.0000e+00 - lambda_1_acc: 0.6496 - val_loss: 0.4306 - val_dense_2_loss: 0.2113 - val_lambda_1_loss: 0.2193 - val_dense_2_acc: 0.6554 - val_lambda_1_acc: 0.2453\n",
      "Epoch 7/100\n",
      "117/117 [==============================] - 1s 7ms/step - loss: 0.0803 - dense_2_loss: 0.0180 - lambda_1_loss: 0.0623 - dense_2_acc: 0.0000e+00 - lambda_1_acc: 0.6581 - val_loss: 0.4179 - val_dense_2_loss: 0.1977 - val_lambda_1_loss: 0.2202 - val_dense_2_acc: 0.6873 - val_lambda_1_acc: 0.2434\n",
      "Epoch 8/100\n",
      "117/117 [==============================] - 1s 6ms/step - loss: 0.0802 - dense_2_loss: 0.0196 - lambda_1_loss: 0.0606 - dense_2_acc: 0.0000e+00 - lambda_1_acc: 0.7094 - val_loss: 0.3953 - val_dense_2_loss: 0.1773 - val_lambda_1_loss: 0.2180 - val_dense_2_acc: 0.7247 - val_lambda_1_acc: 0.2472\n",
      "Epoch 9/100\n",
      "117/117 [==============================] - 1s 6ms/step - loss: 0.0748 - dense_2_loss: 0.0155 - lambda_1_loss: 0.0593 - dense_2_acc: 0.0000e+00 - lambda_1_acc: 0.7094 - val_loss: 0.4095 - val_dense_2_loss: 0.1940 - val_lambda_1_loss: 0.2155 - val_dense_2_acc: 0.6929 - val_lambda_1_acc: 0.2603\n",
      "Epoch 10/100\n",
      "117/117 [==============================] - 1s 7ms/step - loss: 0.0712 - dense_2_loss: 0.0141 - lambda_1_loss: 0.0571 - dense_2_acc: 0.0000e+00 - lambda_1_acc: 0.6838 - val_loss: 0.4127 - val_dense_2_loss: 0.2001 - val_lambda_1_loss: 0.2126 - val_dense_2_acc: 0.6816 - val_lambda_1_acc: 0.2715\n",
      "Epoch 11/100\n",
      "117/117 [==============================] - 1s 5ms/step - loss: 0.0731 - dense_2_loss: 0.0158 - lambda_1_loss: 0.0573 - dense_2_acc: 0.0000e+00 - lambda_1_acc: 0.7009 - val_loss: 0.4076 - val_dense_2_loss: 0.1968 - val_lambda_1_loss: 0.2107 - val_dense_2_acc: 0.6873 - val_lambda_1_acc: 0.2846\n",
      "Epoch 12/100\n",
      "117/117 [==============================] - 1s 6ms/step - loss: 0.0706 - dense_2_loss: 0.0174 - lambda_1_loss: 0.0532 - dense_2_acc: 0.0000e+00 - lambda_1_acc: 0.7009 - val_loss: 0.4024 - val_dense_2_loss: 0.1911 - val_lambda_1_loss: 0.2113 - val_dense_2_acc: 0.6966 - val_lambda_1_acc: 0.2959\n",
      "Epoch 13/100\n",
      "117/117 [==============================] - 1s 7ms/step - loss: 0.0632 - dense_2_loss: 0.0152 - lambda_1_loss: 0.0480 - dense_2_acc: 0.0000e+00 - lambda_1_acc: 0.7350 - val_loss: 0.4179 - val_dense_2_loss: 0.2037 - val_lambda_1_loss: 0.2142 - val_dense_2_acc: 0.6704 - val_lambda_1_acc: 0.2622\n",
      "Epoch 14/100\n",
      "117/117 [==============================] - 1s 7ms/step - loss: 0.0576 - dense_2_loss: 0.0140 - lambda_1_loss: 0.0435 - dense_2_acc: 0.0000e+00 - lambda_1_acc: 0.7436 - val_loss: 0.4206 - val_dense_2_loss: 0.2026 - val_lambda_1_loss: 0.2179 - val_dense_2_acc: 0.6723 - val_lambda_1_acc: 0.2547\n",
      "Epoch 15/100\n",
      "117/117 [==============================] - 1s 6ms/step - loss: 0.0555 - dense_2_loss: 0.0135 - lambda_1_loss: 0.0420 - dense_2_acc: 0.0000e+00 - lambda_1_acc: 0.7607 - val_loss: 0.4088 - val_dense_2_loss: 0.1916 - val_lambda_1_loss: 0.2173 - val_dense_2_acc: 0.6966 - val_lambda_1_acc: 0.2566\n",
      "Epoch 16/100\n",
      "117/117 [==============================] - 1s 6ms/step - loss: 0.0545 - dense_2_loss: 0.0153 - lambda_1_loss: 0.0391 - dense_2_acc: 0.0000e+00 - lambda_1_acc: 0.7778 - val_loss: 0.4103 - val_dense_2_loss: 0.1960 - val_lambda_1_loss: 0.2143 - val_dense_2_acc: 0.6854 - val_lambda_1_acc: 0.2753\n",
      "Epoch 17/100\n",
      "117/117 [==============================] - 1s 8ms/step - loss: 0.0545 - dense_2_loss: 0.0151 - lambda_1_loss: 0.0395 - dense_2_acc: 0.0000e+00 - lambda_1_acc: 0.7778 - val_loss: 0.4128 - val_dense_2_loss: 0.2000 - val_lambda_1_loss: 0.2128 - val_dense_2_acc: 0.6779 - val_lambda_1_acc: 0.2903\n",
      "Epoch 18/100\n",
      "117/117 [==============================] - 1s 6ms/step - loss: 0.0542 - dense_2_loss: 0.0151 - lambda_1_loss: 0.0391 - dense_2_acc: 0.0000e+00 - lambda_1_acc: 0.8034 - val_loss: 0.3942 - val_dense_2_loss: 0.1864 - val_lambda_1_loss: 0.2079 - val_dense_2_acc: 0.7022 - val_lambda_1_acc: 0.2865\n",
      "Epoch 19/100\n",
      "117/117 [==============================] - 1s 5ms/step - loss: 0.0544 - dense_2_loss: 0.0170 - lambda_1_loss: 0.0374 - dense_2_acc: 0.0000e+00 - lambda_1_acc: 0.7863 - val_loss: 0.3995 - val_dense_2_loss: 0.1948 - val_lambda_1_loss: 0.2047 - val_dense_2_acc: 0.6854 - val_lambda_1_acc: 0.2959\n",
      "Epoch 20/100\n",
      "117/117 [==============================] - 1s 5ms/step - loss: 0.0498 - dense_2_loss: 0.0123 - lambda_1_loss: 0.0375 - dense_2_acc: 0.0000e+00 - lambda_1_acc: 0.7778 - val_loss: 0.3988 - val_dense_2_loss: 0.1970 - val_lambda_1_loss: 0.2018 - val_dense_2_acc: 0.6760 - val_lambda_1_acc: 0.3165\n",
      "Epoch 21/100\n",
      "117/117 [==============================] - 1s 5ms/step - loss: 0.0495 - dense_2_loss: 0.0131 - lambda_1_loss: 0.0363 - dense_2_acc: 0.0000e+00 - lambda_1_acc: 0.8034 - val_loss: 0.3813 - val_dense_2_loss: 0.1844 - val_lambda_1_loss: 0.1969 - val_dense_2_acc: 0.7041 - val_lambda_1_acc: 0.3296\n",
      "Epoch 22/100\n",
      "117/117 [==============================] - 1s 9ms/step - loss: 0.0478 - dense_2_loss: 0.0128 - lambda_1_loss: 0.0350 - dense_2_acc: 0.0000e+00 - lambda_1_acc: 0.7778 - val_loss: 0.3758 - val_dense_2_loss: 0.1926 - val_lambda_1_loss: 0.1831 - val_dense_2_acc: 0.6854 - val_lambda_1_acc: 0.3614\n",
      "Epoch 23/100\n",
      "117/117 [==============================] - 1s 9ms/step - loss: 0.0442 - dense_2_loss: 0.0124 - lambda_1_loss: 0.0318 - dense_2_acc: 0.0000e+00 - lambda_1_acc: 0.8120 - val_loss: 0.3809 - val_dense_2_loss: 0.2105 - val_lambda_1_loss: 0.1704 - val_dense_2_acc: 0.6648 - val_lambda_1_acc: 0.3633\n",
      "Epoch 24/100\n",
      "117/117 [==============================] - 1s 5ms/step - loss: 0.0439 - dense_2_loss: 0.0129 - lambda_1_loss: 0.0310 - dense_2_acc: 0.0000e+00 - lambda_1_acc: 0.7863 - val_loss: 0.3718 - val_dense_2_loss: 0.2043 - val_lambda_1_loss: 0.1674 - val_dense_2_acc: 0.6742 - val_lambda_1_acc: 0.3652\n",
      "Epoch 25/100\n",
      "117/117 [==============================] - 1s 5ms/step - loss: 0.0434 - dense_2_loss: 0.0132 - lambda_1_loss: 0.0302 - dense_2_acc: 0.0000e+00 - lambda_1_acc: 0.7863 - val_loss: 0.3675 - val_dense_2_loss: 0.1971 - val_lambda_1_loss: 0.1705 - val_dense_2_acc: 0.6816 - val_lambda_1_acc: 0.3614\n",
      "Epoch 26/100\n",
      "117/117 [==============================] - 1s 5ms/step - loss: 0.0397 - dense_2_loss: 0.0132 - lambda_1_loss: 0.0265 - dense_2_acc: 0.0000e+00 - lambda_1_acc: 0.8462 - val_loss: 0.3710 - val_dense_2_loss: 0.1993 - val_lambda_1_loss: 0.1717 - val_dense_2_acc: 0.6798 - val_lambda_1_acc: 0.3708\n",
      "Epoch 27/100\n",
      "117/117 [==============================] - 1s 5ms/step - loss: 0.0403 - dense_2_loss: 0.0133 - lambda_1_loss: 0.0269 - dense_2_acc: 0.0000e+00 - lambda_1_acc: 0.8120 - val_loss: 0.3846 - val_dense_2_loss: 0.2150 - val_lambda_1_loss: 0.1696 - val_dense_2_acc: 0.6592 - val_lambda_1_acc: 0.3727\n"
     ]
    },
    {
     "name": "stdout",
     "output_type": "stream",
     "text": [
      "Epoch 28/100\n",
      "117/117 [==============================] - 1s 5ms/step - loss: 0.0383 - dense_2_loss: 0.0106 - lambda_1_loss: 0.0277 - dense_2_acc: 0.0000e+00 - lambda_1_acc: 0.7863 - val_loss: 0.3742 - val_dense_2_loss: 0.2058 - val_lambda_1_loss: 0.1684 - val_dense_2_acc: 0.6723 - val_lambda_1_acc: 0.3801\n",
      "Epoch 29/100\n",
      "117/117 [==============================] - 1s 5ms/step - loss: 0.0373 - dense_2_loss: 0.0117 - lambda_1_loss: 0.0257 - dense_2_acc: 0.0000e+00 - lambda_1_acc: 0.8120 - val_loss: 0.3744 - val_dense_2_loss: 0.2028 - val_lambda_1_loss: 0.1716 - val_dense_2_acc: 0.6685 - val_lambda_1_acc: 0.3708\n",
      "Epoch 30/100\n",
      "117/117 [==============================] - 1s 5ms/step - loss: 0.0370 - dense_2_loss: 0.0120 - lambda_1_loss: 0.0249 - dense_2_acc: 0.0000e+00 - lambda_1_acc: 0.8376 - val_loss: 0.3841 - val_dense_2_loss: 0.2117 - val_lambda_1_loss: 0.1723 - val_dense_2_acc: 0.6629 - val_lambda_1_acc: 0.3708\n",
      "Epoch 31/100\n",
      "117/117 [==============================] - 1s 6ms/step - loss: 0.0371 - dense_2_loss: 0.0123 - lambda_1_loss: 0.0248 - dense_2_acc: 0.0000e+00 - lambda_1_acc: 0.8291 - val_loss: 0.3778 - val_dense_2_loss: 0.2072 - val_lambda_1_loss: 0.1706 - val_dense_2_acc: 0.6742 - val_lambda_1_acc: 0.3820\n",
      "Epoch 32/100\n",
      "117/117 [==============================] - 1s 5ms/step - loss: 0.0389 - dense_2_loss: 0.0139 - lambda_1_loss: 0.0250 - dense_2_acc: 0.0000e+00 - lambda_1_acc: 0.8120 - val_loss: 0.3704 - val_dense_2_loss: 0.2009 - val_lambda_1_loss: 0.1696 - val_dense_2_acc: 0.6798 - val_lambda_1_acc: 0.3783\n",
      "Epoch 33/100\n",
      "117/117 [==============================] - 1s 5ms/step - loss: 0.0365 - dense_2_loss: 0.0119 - lambda_1_loss: 0.0246 - dense_2_acc: 0.0000e+00 - lambda_1_acc: 0.8205 - val_loss: 0.3999 - val_dense_2_loss: 0.2303 - val_lambda_1_loss: 0.1696 - val_dense_2_acc: 0.6311 - val_lambda_1_acc: 0.3914\n",
      "Epoch 34/100\n",
      "117/117 [==============================] - 1s 5ms/step - loss: 0.0366 - dense_2_loss: 0.0119 - lambda_1_loss: 0.0247 - dense_2_acc: 0.0000e+00 - lambda_1_acc: 0.8120 - val_loss: 0.3826 - val_dense_2_loss: 0.2128 - val_lambda_1_loss: 0.1698 - val_dense_2_acc: 0.6573 - val_lambda_1_acc: 0.3914\n",
      "Epoch 35/100\n",
      "117/117 [==============================] - 1s 8ms/step - loss: 0.0354 - dense_2_loss: 0.0106 - lambda_1_loss: 0.0248 - dense_2_acc: 0.0000e+00 - lambda_1_acc: 0.7863 - val_loss: 0.3552 - val_dense_2_loss: 0.1851 - val_lambda_1_loss: 0.1701 - val_dense_2_acc: 0.7004 - val_lambda_1_acc: 0.3914\n",
      "Epoch 36/100\n",
      "117/117 [==============================] - 1s 7ms/step - loss: 0.0362 - dense_2_loss: 0.0114 - lambda_1_loss: 0.0247 - dense_2_acc: 0.0000e+00 - lambda_1_acc: 0.8034 - val_loss: 0.3699 - val_dense_2_loss: 0.1985 - val_lambda_1_loss: 0.1715 - val_dense_2_acc: 0.6779 - val_lambda_1_acc: 0.3914\n",
      "Epoch 37/100\n",
      "117/117 [==============================] - 1s 7ms/step - loss: 0.0368 - dense_2_loss: 0.0130 - lambda_1_loss: 0.0237 - dense_2_acc: 0.0000e+00 - lambda_1_acc: 0.8462 - val_loss: 0.3795 - val_dense_2_loss: 0.2103 - val_lambda_1_loss: 0.1693 - val_dense_2_acc: 0.6592 - val_lambda_1_acc: 0.3745\n",
      "Epoch 38/100\n",
      "117/117 [==============================] - 1s 5ms/step - loss: 0.0315 - dense_2_loss: 0.0099 - lambda_1_loss: 0.0216 - dense_2_acc: 0.0000e+00 - lambda_1_acc: 0.8205 - val_loss: 0.3679 - val_dense_2_loss: 0.1974 - val_lambda_1_loss: 0.1706 - val_dense_2_acc: 0.6835 - val_lambda_1_acc: 0.3708\n",
      "Epoch 39/100\n",
      "117/117 [==============================] - 1s 7ms/step - loss: 0.0315 - dense_2_loss: 0.0108 - lambda_1_loss: 0.0207 - dense_2_acc: 0.0000e+00 - lambda_1_acc: 0.8034 - val_loss: 0.3750 - val_dense_2_loss: 0.1959 - val_lambda_1_loss: 0.1791 - val_dense_2_acc: 0.6835 - val_lambda_1_acc: 0.3333\n",
      "Epoch 40/100\n",
      "117/117 [==============================] - 1s 7ms/step - loss: 0.0309 - dense_2_loss: 0.0097 - lambda_1_loss: 0.0212 - dense_2_acc: 0.0000e+00 - lambda_1_acc: 0.8462 - val_loss: 0.3730 - val_dense_2_loss: 0.1959 - val_lambda_1_loss: 0.1771 - val_dense_2_acc: 0.6854 - val_lambda_1_acc: 0.3614\n",
      "Epoch 41/100\n",
      "117/117 [==============================] - 1s 8ms/step - loss: 0.0325 - dense_2_loss: 0.0117 - lambda_1_loss: 0.0208 - dense_2_acc: 0.0000e+00 - lambda_1_acc: 0.8205 - val_loss: 0.3720 - val_dense_2_loss: 0.1981 - val_lambda_1_loss: 0.1738 - val_dense_2_acc: 0.6798 - val_lambda_1_acc: 0.3820\n",
      "Epoch 42/100\n",
      "117/117 [==============================] - 1s 6ms/step - loss: 0.0309 - dense_2_loss: 0.0109 - lambda_1_loss: 0.0200 - dense_2_acc: 0.0000e+00 - lambda_1_acc: 0.8376 - val_loss: 0.3841 - val_dense_2_loss: 0.2122 - val_lambda_1_loss: 0.1719 - val_dense_2_acc: 0.6667 - val_lambda_1_acc: 0.3839\n",
      "Epoch 43/100\n",
      "117/117 [==============================] - 1s 8ms/step - loss: 0.0292 - dense_2_loss: 0.0097 - lambda_1_loss: 0.0196 - dense_2_acc: 0.0000e+00 - lambda_1_acc: 0.8547 - val_loss: 0.3856 - val_dense_2_loss: 0.2152 - val_lambda_1_loss: 0.1703 - val_dense_2_acc: 0.6592 - val_lambda_1_acc: 0.3858\n",
      "Epoch 44/100\n",
      "117/117 [==============================] - 1s 6ms/step - loss: 0.0305 - dense_2_loss: 0.0104 - lambda_1_loss: 0.0201 - dense_2_acc: 0.0000e+00 - lambda_1_acc: 0.8718 - val_loss: 0.3522 - val_dense_2_loss: 0.1849 - val_lambda_1_loss: 0.1672 - val_dense_2_acc: 0.7022 - val_lambda_1_acc: 0.3914\n",
      "Epoch 45/100\n",
      "117/117 [==============================] - 1s 6ms/step - loss: 0.0288 - dense_2_loss: 0.0092 - lambda_1_loss: 0.0196 - dense_2_acc: 0.0000e+00 - lambda_1_acc: 0.8205 - val_loss: 0.3656 - val_dense_2_loss: 0.1981 - val_lambda_1_loss: 0.1675 - val_dense_2_acc: 0.6798 - val_lambda_1_acc: 0.3876\n",
      "Epoch 46/100\n",
      "117/117 [==============================] - 1s 7ms/step - loss: 0.0309 - dense_2_loss: 0.0103 - lambda_1_loss: 0.0206 - dense_2_acc: 0.0000e+00 - lambda_1_acc: 0.8291 - val_loss: 0.3719 - val_dense_2_loss: 0.2050 - val_lambda_1_loss: 0.1668 - val_dense_2_acc: 0.6723 - val_lambda_1_acc: 0.3970\n",
      "Epoch 47/100\n",
      "117/117 [==============================] - 1s 8ms/step - loss: 0.0308 - dense_2_loss: 0.0110 - lambda_1_loss: 0.0197 - dense_2_acc: 0.0000e+00 - lambda_1_acc: 0.8462 - val_loss: 0.3779 - val_dense_2_loss: 0.2115 - val_lambda_1_loss: 0.1664 - val_dense_2_acc: 0.6648 - val_lambda_1_acc: 0.3933\n",
      "Epoch 48/100\n",
      "117/117 [==============================] - 1s 7ms/step - loss: 0.0285 - dense_2_loss: 0.0091 - lambda_1_loss: 0.0194 - dense_2_acc: 0.0000e+00 - lambda_1_acc: 0.8291 - val_loss: 0.3594 - val_dense_2_loss: 0.1927 - val_lambda_1_loss: 0.1667 - val_dense_2_acc: 0.6910 - val_lambda_1_acc: 0.3876\n",
      "Epoch 49/100\n",
      "117/117 [==============================] - 1s 9ms/step - loss: 0.0297 - dense_2_loss: 0.0104 - lambda_1_loss: 0.0192 - dense_2_acc: 0.0000e+00 - lambda_1_acc: 0.8376 - val_loss: 0.3500 - val_dense_2_loss: 0.1828 - val_lambda_1_loss: 0.1672 - val_dense_2_acc: 0.7154 - val_lambda_1_acc: 0.3989\n",
      "Epoch 50/100\n",
      "117/117 [==============================] - 1s 9ms/step - loss: 0.0297 - dense_2_loss: 0.0103 - lambda_1_loss: 0.0193 - dense_2_acc: 0.0000e+00 - lambda_1_acc: 0.8376 - val_loss: 0.3785 - val_dense_2_loss: 0.2127 - val_lambda_1_loss: 0.1659 - val_dense_2_acc: 0.6573 - val_lambda_1_acc: 0.4026\n",
      "Epoch 51/100\n",
      "117/117 [==============================] - 1s 6ms/step - loss: 0.0307 - dense_2_loss: 0.0113 - lambda_1_loss: 0.0193 - dense_2_acc: 0.0000e+00 - lambda_1_acc: 0.8547 - val_loss: 0.3751 - val_dense_2_loss: 0.2092 - val_lambda_1_loss: 0.1659 - val_dense_2_acc: 0.6723 - val_lambda_1_acc: 0.4007\n",
      "Epoch 52/100\n",
      "117/117 [==============================] - 1s 6ms/step - loss: 0.0299 - dense_2_loss: 0.0104 - lambda_1_loss: 0.0195 - dense_2_acc: 0.0000e+00 - lambda_1_acc: 0.8376 - val_loss: 0.3504 - val_dense_2_loss: 0.1837 - val_lambda_1_loss: 0.1667 - val_dense_2_acc: 0.7154 - val_lambda_1_acc: 0.3839\n",
      "Epoch 53/100\n",
      "117/117 [==============================] - 1s 7ms/step - loss: 0.0289 - dense_2_loss: 0.0091 - lambda_1_loss: 0.0198 - dense_2_acc: 0.0000e+00 - lambda_1_acc: 0.8462 - val_loss: 0.3727 - val_dense_2_loss: 0.2087 - val_lambda_1_loss: 0.1640 - val_dense_2_acc: 0.6648 - val_lambda_1_acc: 0.3895\n",
      "Epoch 54/100\n",
      "117/117 [==============================] - 1s 9ms/step - loss: 0.0278 - dense_2_loss: 0.0086 - lambda_1_loss: 0.0193 - dense_2_acc: 0.0000e+00 - lambda_1_acc: 0.8889 - val_loss: 0.3873 - val_dense_2_loss: 0.2272 - val_lambda_1_loss: 0.1601 - val_dense_2_acc: 0.6236 - val_lambda_1_acc: 0.3895\n"
     ]
    },
    {
     "name": "stdout",
     "output_type": "stream",
     "text": [
      "Epoch 55/100\n",
      "117/117 [==============================] - 1s 7ms/step - loss: 0.0280 - dense_2_loss: 0.0086 - lambda_1_loss: 0.0194 - dense_2_acc: 0.0000e+00 - lambda_1_acc: 0.8376 - val_loss: 0.3602 - val_dense_2_loss: 0.2090 - val_lambda_1_loss: 0.1512 - val_dense_2_acc: 0.6704 - val_lambda_1_acc: 0.3970\n",
      "Epoch 56/100\n",
      "117/117 [==============================] - 1s 7ms/step - loss: 0.0283 - dense_2_loss: 0.0095 - lambda_1_loss: 0.0188 - dense_2_acc: 0.0000e+00 - lambda_1_acc: 0.8632 - val_loss: 0.3436 - val_dense_2_loss: 0.1989 - val_lambda_1_loss: 0.1447 - val_dense_2_acc: 0.6760 - val_lambda_1_acc: 0.4345\n",
      "Epoch 57/100\n",
      "117/117 [==============================] - 1s 6ms/step - loss: 0.0286 - dense_2_loss: 0.0100 - lambda_1_loss: 0.0186 - dense_2_acc: 0.0000e+00 - lambda_1_acc: 0.8291 - val_loss: 0.3632 - val_dense_2_loss: 0.2235 - val_lambda_1_loss: 0.1397 - val_dense_2_acc: 0.6348 - val_lambda_1_acc: 0.4532\n",
      "Epoch 58/100\n",
      "117/117 [==============================] - 1s 7ms/step - loss: 0.0276 - dense_2_loss: 0.0102 - lambda_1_loss: 0.0174 - dense_2_acc: 0.0000e+00 - lambda_1_acc: 0.8889 - val_loss: 0.3497 - val_dense_2_loss: 0.2093 - val_lambda_1_loss: 0.1404 - val_dense_2_acc: 0.6723 - val_lambda_1_acc: 0.4532\n",
      "Epoch 59/100\n",
      "117/117 [==============================] - 1s 6ms/step - loss: 0.0256 - dense_2_loss: 0.0088 - lambda_1_loss: 0.0168 - dense_2_acc: 0.0000e+00 - lambda_1_acc: 0.8718 - val_loss: 0.3348 - val_dense_2_loss: 0.1935 - val_lambda_1_loss: 0.1413 - val_dense_2_acc: 0.6854 - val_lambda_1_acc: 0.4419\n",
      "Epoch 60/100\n",
      "117/117 [==============================] - 1s 6ms/step - loss: 0.0250 - dense_2_loss: 0.0090 - lambda_1_loss: 0.0160 - dense_2_acc: 0.0000e+00 - lambda_1_acc: 0.8718 - val_loss: 0.3721 - val_dense_2_loss: 0.2189 - val_lambda_1_loss: 0.1532 - val_dense_2_acc: 0.6461 - val_lambda_1_acc: 0.4288\n",
      "Epoch 61/100\n",
      "117/117 [==============================] - 1s 6ms/step - loss: 0.0270 - dense_2_loss: 0.0113 - lambda_1_loss: 0.0157 - dense_2_acc: 0.0000e+00 - lambda_1_acc: 0.8718 - val_loss: 0.3840 - val_dense_2_loss: 0.2313 - val_lambda_1_loss: 0.1527 - val_dense_2_acc: 0.6199 - val_lambda_1_acc: 0.4288\n",
      "Epoch 62/100\n",
      "117/117 [==============================] - 1s 7ms/step - loss: 0.0261 - dense_2_loss: 0.0107 - lambda_1_loss: 0.0154 - dense_2_acc: 0.0000e+00 - lambda_1_acc: 0.8803 - val_loss: 0.3443 - val_dense_2_loss: 0.1956 - val_lambda_1_loss: 0.1487 - val_dense_2_acc: 0.6816 - val_lambda_1_acc: 0.4438\n",
      "Epoch 63/100\n",
      "117/117 [==============================] - 1s 8ms/step - loss: 0.0246 - dense_2_loss: 0.0088 - lambda_1_loss: 0.0158 - dense_2_acc: 0.0000e+00 - lambda_1_acc: 0.8718 - val_loss: 0.3495 - val_dense_2_loss: 0.1988 - val_lambda_1_loss: 0.1507 - val_dense_2_acc: 0.6798 - val_lambda_1_acc: 0.4401\n",
      "Epoch 64/100\n",
      "117/117 [==============================] - 1s 8ms/step - loss: 0.0239 - dense_2_loss: 0.0081 - lambda_1_loss: 0.0158 - dense_2_acc: 0.0000e+00 - lambda_1_acc: 0.8547 - val_loss: 0.3768 - val_dense_2_loss: 0.2226 - val_lambda_1_loss: 0.1542 - val_dense_2_acc: 0.6348 - val_lambda_1_acc: 0.4363\n",
      "Epoch 65/100\n",
      "117/117 [==============================] - 1s 7ms/step - loss: 0.0253 - dense_2_loss: 0.0104 - lambda_1_loss: 0.0150 - dense_2_acc: 0.0000e+00 - lambda_1_acc: 0.9060 - val_loss: 0.3710 - val_dense_2_loss: 0.2211 - val_lambda_1_loss: 0.1499 - val_dense_2_acc: 0.6404 - val_lambda_1_acc: 0.4569\n",
      "Epoch 66/100\n",
      "117/117 [==============================] - 1s 5ms/step - loss: 0.0252 - dense_2_loss: 0.0103 - lambda_1_loss: 0.0149 - dense_2_acc: 0.0000e+00 - lambda_1_acc: 0.8803 - val_loss: 0.3511 - val_dense_2_loss: 0.2024 - val_lambda_1_loss: 0.1488 - val_dense_2_acc: 0.6742 - val_lambda_1_acc: 0.4569\n",
      "Epoch 67/100\n",
      "117/117 [==============================] - 1s 9ms/step - loss: 0.0246 - dense_2_loss: 0.0091 - lambda_1_loss: 0.0156 - dense_2_acc: 0.0000e+00 - lambda_1_acc: 0.8803 - val_loss: 0.3550 - val_dense_2_loss: 0.2006 - val_lambda_1_loss: 0.1544 - val_dense_2_acc: 0.6798 - val_lambda_1_acc: 0.4307\n",
      "Epoch 68/100\n",
      "117/117 [==============================] - 1s 10ms/step - loss: 0.0252 - dense_2_loss: 0.0104 - lambda_1_loss: 0.0148 - dense_2_acc: 0.0000e+00 - lambda_1_acc: 0.9060 - val_loss: 0.3767 - val_dense_2_loss: 0.2233 - val_lambda_1_loss: 0.1535 - val_dense_2_acc: 0.6330 - val_lambda_1_acc: 0.4270\n",
      "Epoch 69/100\n",
      "117/117 [==============================] - 1s 12ms/step - loss: 0.0244 - dense_2_loss: 0.0090 - lambda_1_loss: 0.0154 - dense_2_acc: 0.0000e+00 - lambda_1_acc: 0.8718 - val_loss: 0.3460 - val_dense_2_loss: 0.1975 - val_lambda_1_loss: 0.1485 - val_dense_2_acc: 0.6798 - val_lambda_1_acc: 0.4457\n",
      "Epoch 70/100\n",
      "117/117 [==============================] - 1s 8ms/step - loss: 0.0251 - dense_2_loss: 0.0102 - lambda_1_loss: 0.0149 - dense_2_acc: 0.0000e+00 - lambda_1_acc: 0.8632 - val_loss: 0.3419 - val_dense_2_loss: 0.1961 - val_lambda_1_loss: 0.1458 - val_dense_2_acc: 0.6779 - val_lambda_1_acc: 0.4532\n",
      "Epoch 71/100\n",
      "117/117 [==============================] - 1s 9ms/step - loss: 0.0231 - dense_2_loss: 0.0085 - lambda_1_loss: 0.0146 - dense_2_acc: 0.0000e+00 - lambda_1_acc: 0.8803 - val_loss: 0.3766 - val_dense_2_loss: 0.2278 - val_lambda_1_loss: 0.1488 - val_dense_2_acc: 0.6199 - val_lambda_1_acc: 0.4419\n",
      "Epoch 72/100\n",
      "117/117 [==============================] - 1s 10ms/step - loss: 0.0239 - dense_2_loss: 0.0087 - lambda_1_loss: 0.0152 - dense_2_acc: 0.0000e+00 - lambda_1_acc: 0.8718 - val_loss: 0.3698 - val_dense_2_loss: 0.2182 - val_lambda_1_loss: 0.1516 - val_dense_2_acc: 0.6386 - val_lambda_1_acc: 0.4326\n",
      "Epoch 73/100\n",
      "117/117 [==============================] - 1s 5ms/step - loss: 0.0238 - dense_2_loss: 0.0088 - lambda_1_loss: 0.0150 - dense_2_acc: 0.0000e+00 - lambda_1_acc: 0.8718 - val_loss: 0.3480 - val_dense_2_loss: 0.1954 - val_lambda_1_loss: 0.1526 - val_dense_2_acc: 0.6816 - val_lambda_1_acc: 0.4326\n",
      "Epoch 74/100\n",
      "117/117 [==============================] - 1s 9ms/step - loss: 0.0230 - dense_2_loss: 0.0084 - lambda_1_loss: 0.0146 - dense_2_acc: 0.0000e+00 - lambda_1_acc: 0.8632 - val_loss: 0.3584 - val_dense_2_loss: 0.2048 - val_lambda_1_loss: 0.1535 - val_dense_2_acc: 0.6648 - val_lambda_1_acc: 0.4270\n",
      "Epoch 75/100\n",
      "117/117 [==============================] - 1s 7ms/step - loss: 0.0240 - dense_2_loss: 0.0088 - lambda_1_loss: 0.0152 - dense_2_acc: 0.0000e+00 - lambda_1_acc: 0.8718 - val_loss: 0.3675 - val_dense_2_loss: 0.2159 - val_lambda_1_loss: 0.1515 - val_dense_2_acc: 0.6442 - val_lambda_1_acc: 0.4307\n",
      "Epoch 76/100\n",
      "117/117 [==============================] - 1s 6ms/step - loss: 0.0237 - dense_2_loss: 0.0088 - lambda_1_loss: 0.0149 - dense_2_acc: 0.0000e+00 - lambda_1_acc: 0.8803 - val_loss: 0.3546 - val_dense_2_loss: 0.2061 - val_lambda_1_loss: 0.1485 - val_dense_2_acc: 0.6554 - val_lambda_1_acc: 0.4419\n",
      "Epoch 77/100\n",
      "117/117 [==============================] - 1s 8ms/step - loss: 0.0251 - dense_2_loss: 0.0106 - lambda_1_loss: 0.0145 - dense_2_acc: 0.0000e+00 - lambda_1_acc: 0.8889 - val_loss: 0.3419 - val_dense_2_loss: 0.1931 - val_lambda_1_loss: 0.1487 - val_dense_2_acc: 0.6891 - val_lambda_1_acc: 0.4457\n",
      "Epoch 78/100\n",
      "117/117 [==============================] - 1s 8ms/step - loss: 0.0232 - dense_2_loss: 0.0085 - lambda_1_loss: 0.0146 - dense_2_acc: 0.0000e+00 - lambda_1_acc: 0.8889 - val_loss: 0.3615 - val_dense_2_loss: 0.2132 - val_lambda_1_loss: 0.1483 - val_dense_2_acc: 0.6517 - val_lambda_1_acc: 0.4513\n",
      "Epoch 79/100\n",
      "117/117 [==============================] - 1s 5ms/step - loss: 0.0239 - dense_2_loss: 0.0087 - lambda_1_loss: 0.0152 - dense_2_acc: 0.0000e+00 - lambda_1_acc: 0.8803 - val_loss: 0.3712 - val_dense_2_loss: 0.2260 - val_lambda_1_loss: 0.1453 - val_dense_2_acc: 0.6124 - val_lambda_1_acc: 0.4476\n",
      "Epoch 80/100\n",
      "117/117 [==============================] - 1s 5ms/step - loss: 0.0228 - dense_2_loss: 0.0084 - lambda_1_loss: 0.0144 - dense_2_acc: 0.0000e+00 - lambda_1_acc: 0.8718 - val_loss: 0.3446 - val_dense_2_loss: 0.1977 - val_lambda_1_loss: 0.1469 - val_dense_2_acc: 0.6798 - val_lambda_1_acc: 0.4345\n",
      "Epoch 81/100\n",
      "117/117 [==============================] - 1s 7ms/step - loss: 0.0238 - dense_2_loss: 0.0091 - lambda_1_loss: 0.0147 - dense_2_acc: 0.0000e+00 - lambda_1_acc: 0.8547 - val_loss: 0.3565 - val_dense_2_loss: 0.2029 - val_lambda_1_loss: 0.1536 - val_dense_2_acc: 0.6760 - val_lambda_1_acc: 0.4288\n"
     ]
    },
    {
     "name": "stdout",
     "output_type": "stream",
     "text": [
      "Epoch 82/100\n",
      "117/117 [==============================] - 1s 8ms/step - loss: 0.0214 - dense_2_loss: 0.0069 - lambda_1_loss: 0.0145 - dense_2_acc: 0.0000e+00 - lambda_1_acc: 0.8803 - val_loss: 0.3598 - val_dense_2_loss: 0.2074 - val_lambda_1_loss: 0.1524 - val_dense_2_acc: 0.6573 - val_lambda_1_acc: 0.4345\n",
      "Epoch 83/100\n",
      "117/117 [==============================] - 1s 5ms/step - loss: 0.0240 - dense_2_loss: 0.0093 - lambda_1_loss: 0.0147 - dense_2_acc: 0.0000e+00 - lambda_1_acc: 0.8632 - val_loss: 0.3549 - val_dense_2_loss: 0.2023 - val_lambda_1_loss: 0.1526 - val_dense_2_acc: 0.6648 - val_lambda_1_acc: 0.4363\n",
      "Epoch 84/100\n",
      "117/117 [==============================] - 1s 5ms/step - loss: 0.0253 - dense_2_loss: 0.0105 - lambda_1_loss: 0.0149 - dense_2_acc: 0.0000e+00 - lambda_1_acc: 0.8462 - val_loss: 0.3535 - val_dense_2_loss: 0.2033 - val_lambda_1_loss: 0.1501 - val_dense_2_acc: 0.6648 - val_lambda_1_acc: 0.4326\n",
      "Epoch 85/100\n",
      "117/117 [==============================] - 1s 7ms/step - loss: 0.0202 - dense_2_loss: 0.0066 - lambda_1_loss: 0.0136 - dense_2_acc: 0.0000e+00 - lambda_1_acc: 0.9060 - val_loss: 0.3713 - val_dense_2_loss: 0.2218 - val_lambda_1_loss: 0.1495 - val_dense_2_acc: 0.6217 - val_lambda_1_acc: 0.4307\n",
      "Epoch 86/100\n",
      "117/117 [==============================] - 1s 5ms/step - loss: 0.0229 - dense_2_loss: 0.0090 - lambda_1_loss: 0.0140 - dense_2_acc: 0.0000e+00 - lambda_1_acc: 0.8718 - val_loss: 0.3664 - val_dense_2_loss: 0.2198 - val_lambda_1_loss: 0.1466 - val_dense_2_acc: 0.6273 - val_lambda_1_acc: 0.4382\n",
      "Epoch 87/100\n",
      "117/117 [==============================] - 1s 8ms/step - loss: 0.0230 - dense_2_loss: 0.0086 - lambda_1_loss: 0.0144 - dense_2_acc: 0.0000e+00 - lambda_1_acc: 0.8974 - val_loss: 0.3434 - val_dense_2_loss: 0.1964 - val_lambda_1_loss: 0.1470 - val_dense_2_acc: 0.6779 - val_lambda_1_acc: 0.4457\n",
      "Epoch 88/100\n",
      "117/117 [==============================] - 1s 7ms/step - loss: 0.0227 - dense_2_loss: 0.0090 - lambda_1_loss: 0.0137 - dense_2_acc: 0.0000e+00 - lambda_1_acc: 0.8974 - val_loss: 0.3432 - val_dense_2_loss: 0.1936 - val_lambda_1_loss: 0.1496 - val_dense_2_acc: 0.6798 - val_lambda_1_acc: 0.4457\n",
      "Epoch 89/100\n",
      "117/117 [==============================] - 1s 5ms/step - loss: 0.0228 - dense_2_loss: 0.0085 - lambda_1_loss: 0.0143 - dense_2_acc: 0.0000e+00 - lambda_1_acc: 0.8889 - val_loss: 0.3637 - val_dense_2_loss: 0.2172 - val_lambda_1_loss: 0.1466 - val_dense_2_acc: 0.6311 - val_lambda_1_acc: 0.4551\n",
      "Epoch 90/100\n",
      "117/117 [==============================] - 1s 9ms/step - loss: 0.0230 - dense_2_loss: 0.0089 - lambda_1_loss: 0.0141 - dense_2_acc: 0.0000e+00 - lambda_1_acc: 0.8974 - val_loss: 0.3789 - val_dense_2_loss: 0.2327 - val_lambda_1_loss: 0.1462 - val_dense_2_acc: 0.6086 - val_lambda_1_acc: 0.4551\n",
      "Epoch 91/100\n",
      "117/117 [==============================] - 1s 6ms/step - loss: 0.0214 - dense_2_loss: 0.0076 - lambda_1_loss: 0.0138 - dense_2_acc: 0.0000e+00 - lambda_1_acc: 0.8803 - val_loss: 0.3581 - val_dense_2_loss: 0.2071 - val_lambda_1_loss: 0.1510 - val_dense_2_acc: 0.6498 - val_lambda_1_acc: 0.4326\n",
      "Epoch 92/100\n",
      "117/117 [==============================] - 1s 5ms/step - loss: 0.0229 - dense_2_loss: 0.0094 - lambda_1_loss: 0.0135 - dense_2_acc: 0.0000e+00 - lambda_1_acc: 0.9145 - val_loss: 0.3559 - val_dense_2_loss: 0.2009 - val_lambda_1_loss: 0.1550 - val_dense_2_acc: 0.6610 - val_lambda_1_acc: 0.4326\n",
      "Epoch 93/100\n",
      "117/117 [==============================] - 1s 5ms/step - loss: 0.0230 - dense_2_loss: 0.0086 - lambda_1_loss: 0.0144 - dense_2_acc: 0.0000e+00 - lambda_1_acc: 0.9145 - val_loss: 0.3636 - val_dense_2_loss: 0.2096 - val_lambda_1_loss: 0.1540 - val_dense_2_acc: 0.6479 - val_lambda_1_acc: 0.4288\n",
      "Epoch 94/100\n",
      "117/117 [==============================] - 1s 5ms/step - loss: 0.0207 - dense_2_loss: 0.0072 - lambda_1_loss: 0.0135 - dense_2_acc: 0.0000e+00 - lambda_1_acc: 0.9060 - val_loss: 0.3707 - val_dense_2_loss: 0.2233 - val_lambda_1_loss: 0.1473 - val_dense_2_acc: 0.6199 - val_lambda_1_acc: 0.4419\n",
      "Epoch 95/100\n",
      "117/117 [==============================] - 1s 5ms/step - loss: 0.0214 - dense_2_loss: 0.0079 - lambda_1_loss: 0.0135 - dense_2_acc: 0.0000e+00 - lambda_1_acc: 0.9060 - val_loss: 0.3781 - val_dense_2_loss: 0.2338 - val_lambda_1_loss: 0.1443 - val_dense_2_acc: 0.6067 - val_lambda_1_acc: 0.4494\n",
      "Epoch 96/100\n",
      "117/117 [==============================] - 1s 5ms/step - loss: 0.0227 - dense_2_loss: 0.0091 - lambda_1_loss: 0.0136 - dense_2_acc: 0.0000e+00 - lambda_1_acc: 0.9145 - val_loss: 0.3445 - val_dense_2_loss: 0.1981 - val_lambda_1_loss: 0.1464 - val_dense_2_acc: 0.6723 - val_lambda_1_acc: 0.4401\n",
      "Epoch 97/100\n",
      "117/117 [==============================] - 1s 7ms/step - loss: 0.0226 - dense_2_loss: 0.0093 - lambda_1_loss: 0.0133 - dense_2_acc: 0.0000e+00 - lambda_1_acc: 0.8889 - val_loss: 0.3417 - val_dense_2_loss: 0.1940 - val_lambda_1_loss: 0.1477 - val_dense_2_acc: 0.6835 - val_lambda_1_acc: 0.4382\n",
      "Epoch 98/100\n",
      "117/117 [==============================] - 1s 6ms/step - loss: 0.0202 - dense_2_loss: 0.0066 - lambda_1_loss: 0.0137 - dense_2_acc: 0.0000e+00 - lambda_1_acc: 0.9060 - val_loss: 0.3856 - val_dense_2_loss: 0.2380 - val_lambda_1_loss: 0.1476 - val_dense_2_acc: 0.6030 - val_lambda_1_acc: 0.4401\n",
      "Epoch 99/100\n",
      "117/117 [==============================] - 1s 6ms/step - loss: 0.0217 - dense_2_loss: 0.0084 - lambda_1_loss: 0.0133 - dense_2_acc: 0.0000e+00 - lambda_1_acc: 0.8889 - val_loss: 0.3720 - val_dense_2_loss: 0.2226 - val_lambda_1_loss: 0.1494 - val_dense_2_acc: 0.6236 - val_lambda_1_acc: 0.4438\n",
      "Epoch 100/100\n",
      "117/117 [==============================] - 1s 6ms/step - loss: 0.0229 - dense_2_loss: 0.0093 - lambda_1_loss: 0.0136 - dense_2_acc: 0.0000e+00 - lambda_1_acc: 0.8974 - val_loss: 0.3606 - val_dense_2_loss: 0.2093 - val_lambda_1_loss: 0.1512 - val_dense_2_acc: 0.6479 - val_lambda_1_acc: 0.4419\n"
     ]
    }
   ],
   "source": [
    "results = my_model.fit(x_train, [y_train_conta, y_train], batch_size=params['batch_size'], epochs= params['epochs'], verbose = 1, validation_data=(x_val, [foo_y_val_conta, y_val]))"
   ]
  },
  {
   "cell_type": "markdown",
   "metadata": {},
   "source": [
    "If test_train_spli = 0.999, the training set is very small and thus the validation loss remains very large."
   ]
  },
  {
   "cell_type": "code",
   "execution_count": 52,
   "metadata": {
    "ExecuteTime": {
     "end_time": "2020-01-26T11:41:45.949138Z",
     "start_time": "2020-01-26T11:41:45.795831Z"
    }
   },
   "outputs": [
    {
     "data": {
      "image/png": "[encoded data removed]",
      "text/plain": [
       "<Figure size 432x288 with 1 Axes>"
      ]
     },
     "metadata": {
      "needs_background": "light"
     },
     "output_type": "display_data"
    }
   ],
   "source": [
    "# summarize history for loss\n",
    "plt.plot(results.history['loss'])\n",
    "plt.plot(results.history['val_loss'])\n",
    "plt.title('Model loss')\n",
    "plt.ylabel('loss')\n",
    "plt.xlabel('epoch')\n",
    "plt.legend(['train', 'test'], loc='upper left')\n",
    "plt.show()"
   ]
  }
 ],
 "metadata": {
  "kernelspec": {
   "display_name": "Python 3",
   "language": "python",
   "name": "python3"
  },
  "language_info": {
   "codemirror_mode": {
    "name": "ipython",
    "version": 3
   },
   "file_extension": ".py",
   "mimetype": "text/x-python",
   "name": "python",
   "nbconvert_exporter": "python",
   "pygments_lexer": "ipython3",
   "version": "3.6.8"
  },
  "latex_envs": {
   "LaTeX_envs_menu_present": true,
   "autoclose": false,
   "autocomplete": true,
   "bibliofile": "biblio.bib",
   "cite_by": "apalike",
   "current_citInitial": 1,
   "eqLabelWithNumbers": true,
   "eqNumInitial": 1,
   "hotkeys": {
    "equation": "Ctrl-E",
    "itemize": "Ctrl-I"
   },
   "labels_anchors": false,
   "latex_user_defs": false,
   "report_style_numbering": false,
   "user_envs_cfg": false
  },
  "toc": {
   "base_numbering": 1,
   "nav_menu": {},
   "number_sections": true,
   "sideBar": true,
   "skip_h1_title": false,
   "title_cell": "Table of Contents",
   "title_sidebar": "Contents",
   "toc_cell": false,
   "toc_position": {},
   "toc_section_display": true,
   "toc_window_display": false
  }
 },
 "nbformat": 4,
 "nbformat_minor": 2
}
